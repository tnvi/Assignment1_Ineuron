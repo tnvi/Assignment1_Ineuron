{
  "nbformat": 4,
  "nbformat_minor": 0,
  "metadata": {
    "colab": {
      "name": "Assignment1.ipynb",
      "provenance": [],
      "collapsed_sections": []
    },
    "kernelspec": {
      "name": "python3",
      "display_name": "Python 3"
    }
  },
  "cells": [
    {
      "cell_type": "markdown",
      "metadata": {
        "id": "k7_VlD_RhvZU",
        "colab_type": "text"
      },
      "source": [
        "Write a program which will find all such numbers which are divisible by 7 but are not a multiple\n",
        "of 5, between 2000 and 3200 (both included). The numbers obtained should be printed in a\n",
        "comma-separated sequence on a single line."
      ]
    },
    {
      "cell_type": "code",
      "metadata": {
        "id": "mPL-P4kJHibG",
        "colab_type": "code",
        "outputId": "342b9c3f-2176-4ebc-8be9-7dcf135753ea",
        "colab": {
          "base_uri": "https://localhost:8080/",
          "height": 55
        }
      },
      "source": [
        "R1=list(range(2000, 3201))\n",
        "list7=[]\n",
        "for each in R1:\n",
        "  if each % 7 ==0 and each %5!= 0:\n",
        "    list7.append(each)\n",
        "print(list7)\n"
      ],
      "execution_count": 0,
      "outputs": [
        {
          "output_type": "stream",
          "text": [
            "[2002, 2009, 2016, 2023, 2037, 2044, 2051, 2058, 2072, 2079, 2086, 2093, 2107, 2114, 2121, 2128, 2142, 2149, 2156, 2163, 2177, 2184, 2191, 2198, 2212, 2219, 2226, 2233, 2247, 2254, 2261, 2268, 2282, 2289, 2296, 2303, 2317, 2324, 2331, 2338, 2352, 2359, 2366, 2373, 2387, 2394, 2401, 2408, 2422, 2429, 2436, 2443, 2457, 2464, 2471, 2478, 2492, 2499, 2506, 2513, 2527, 2534, 2541, 2548, 2562, 2569, 2576, 2583, 2597, 2604, 2611, 2618, 2632, 2639, 2646, 2653, 2667, 2674, 2681, 2688, 2702, 2709, 2716, 2723, 2737, 2744, 2751, 2758, 2772, 2779, 2786, 2793, 2807, 2814, 2821, 2828, 2842, 2849, 2856, 2863, 2877, 2884, 2891, 2898, 2912, 2919, 2926, 2933, 2947, 2954, 2961, 2968, 2982, 2989, 2996, 3003, 3017, 3024, 3031, 3038, 3052, 3059, 3066, 3073, 3087, 3094, 3101, 3108, 3122, 3129, 3136, 3143, 3157, 3164, 3171, 3178, 3192, 3199]\n"
          ],
          "name": "stdout"
        }
      ]
    },
    {
      "cell_type": "code",
      "metadata": {
        "id": "E7-WlILYHvv7",
        "colab_type": "code",
        "outputId": "0e009908-b10d-431b-e9bd-0d0ce5d5e008",
        "colab": {
          "base_uri": "https://localhost:8080/",
          "height": 55
        }
      },
      "source": [
        "R=2000\n",
        "Out=[]\n",
        "while (R<=3200):\n",
        "  if R% 7 == 0 and R%5 != 0:\n",
        "    Out.append(R)\n",
        "  R=R+1\n",
        "print (Out)"
      ],
      "execution_count": 0,
      "outputs": [
        {
          "output_type": "stream",
          "text": [
            "[2002, 2009, 2016, 2023, 2037, 2044, 2051, 2058, 2072, 2079, 2086, 2093, 2107, 2114, 2121, 2128, 2142, 2149, 2156, 2163, 2177, 2184, 2191, 2198, 2212, 2219, 2226, 2233, 2247, 2254, 2261, 2268, 2282, 2289, 2296, 2303, 2317, 2324, 2331, 2338, 2352, 2359, 2366, 2373, 2387, 2394, 2401, 2408, 2422, 2429, 2436, 2443, 2457, 2464, 2471, 2478, 2492, 2499, 2506, 2513, 2527, 2534, 2541, 2548, 2562, 2569, 2576, 2583, 2597, 2604, 2611, 2618, 2632, 2639, 2646, 2653, 2667, 2674, 2681, 2688, 2702, 2709, 2716, 2723, 2737, 2744, 2751, 2758, 2772, 2779, 2786, 2793, 2807, 2814, 2821, 2828, 2842, 2849, 2856, 2863, 2877, 2884, 2891, 2898, 2912, 2919, 2926, 2933, 2947, 2954, 2961, 2968, 2982, 2989, 2996, 3003, 3017, 3024, 3031, 3038, 3052, 3059, 3066, 3073, 3087, 3094, 3101, 3108, 3122, 3129, 3136, 3143, 3157, 3164, 3171, 3178, 3192, 3199]\n"
          ],
          "name": "stdout"
        }
      ]
    },
    {
      "cell_type": "markdown",
      "metadata": {
        "id": "oEKhwfV1JXBD",
        "colab_type": "text"
      },
      "source": [
        "Write a Python program to accept the user's first and last name and then getting them printed in\n",
        "the the reverse order with a space between first name and last name."
      ]
    },
    {
      "cell_type": "code",
      "metadata": {
        "id": "nxmEI8UBMyVC",
        "colab_type": "code",
        "outputId": "84f1ca75-91a9-4e53-8169-5dd022a6fa17",
        "colab": {
          "base_uri": "https://localhost:8080/",
          "height": 72
        }
      },
      "source": [
        "name=[]\n",
        "first= input(\"What is your first name?\")\n",
        "name.append(first)\n",
        "name.append(\" \")\n",
        "last= input(\"What is your last name?\")\n",
        "name.append(last)\n",
        "name=name[::-1]\n",
        "print(name)"
      ],
      "execution_count": 0,
      "outputs": [
        {
          "output_type": "stream",
          "text": [
            "What is your first name?zxc\n",
            "What is your last name?asd\n",
            "['asd', ' ', 'zxc']\n"
          ],
          "name": "stdout"
        }
      ]
    },
    {
      "cell_type": "code",
      "metadata": {
        "id": "EoAM20zLU3Ef",
        "colab_type": "code",
        "outputId": "ca46d052-7fa3-4fe7-91e8-a6cc95ac6062",
        "colab": {
          "base_uri": "https://localhost:8080/",
          "height": 72
        }
      },
      "source": [
        "name=[]\n",
        "first= input(\"What is your first name?\")\n",
        "first=first[::-1]\n",
        "name.append(first)\n",
        "name.append(\" \")\n",
        "last= input(\"What is your last name?\")\n",
        "last=last[::-1]\n",
        "name.append(last)\n",
        "name=name[::-1]\n",
        "print(name)"
      ],
      "execution_count": 0,
      "outputs": [
        {
          "output_type": "stream",
          "text": [
            "What is your first name?TAnvi\n",
            "What is your last name?Iyengar\n",
            "['ragneyI', ' ', 'ivnAT']\n"
          ],
          "name": "stdout"
        }
      ]
    },
    {
      "cell_type": "code",
      "metadata": {
        "id": "mr9FCfveVeJD",
        "colab_type": "code",
        "outputId": "3f8e3f63-0583-4849-b2ba-485fba0367d6",
        "colab": {
          "base_uri": "https://localhost:8080/",
          "height": 72
        }
      },
      "source": [
        "name=()\n",
        "first= input(\"What is your first name?\")\n",
        "last= input(\"What is your last name?\")\n",
        "name = first + \" \" + last\n",
        "name=name[::-1]\n",
        "print(name)"
      ],
      "execution_count": 0,
      "outputs": [
        {
          "output_type": "stream",
          "text": [
            "What is your first name?Tanvi\n",
            "What is your last name?Iyengar\n",
            "ragneyI ivnaT\n"
          ],
          "name": "stdout"
        }
      ]
    },
    {
      "cell_type": "markdown",
      "metadata": {
        "id": "UxeBiW9nXC43",
        "colab_type": "text"
      },
      "source": [
        "Write a Python program to find the volume of a sphere with diameter 12 cm.\n",
        "Formula: V=4/3 * π * r 3"
      ]
    },
    {
      "cell_type": "code",
      "metadata": {
        "id": "Y2SgVv-0YJ8H",
        "colab_type": "code",
        "outputId": "5b31ebd0-3ca2-4852-8ad1-f37586c47384",
        "colab": {
          "base_uri": "https://localhost:8080/",
          "height": 35
        }
      },
      "source": [
        "d=12\n",
        "r=d/2\n",
        "π = 3.14\n",
        "V=(4/3) * π * (r**3)\n",
        "print(V)"
      ],
      "execution_count": 0,
      "outputs": [
        {
          "output_type": "stream",
          "text": [
            "904.3199999999999\n"
          ],
          "name": "stdout"
        }
      ]
    },
    {
      "cell_type": "markdown",
      "metadata": {
        "id": "dbemaarEYaR3",
        "colab_type": "text"
      },
      "source": [
        "Write a program which accepts a sequence of comma-separated numbers from console and\n",
        "generate a list."
      ]
    },
    {
      "cell_type": "code",
      "metadata": {
        "id": "MiA-0QcDZkb_",
        "colab_type": "code",
        "outputId": "fe0e166d-b08c-4b66-9abc-ddf4a7d6b868",
        "colab": {
          "base_uri": "https://localhost:8080/",
          "height": 72
        }
      },
      "source": [
        "acpt=input(\"Give any number of input: \")\n",
        "xyz= list(acpt.split(\",\"))\n",
        "print(xyz)\n",
        "type(xyz)"
      ],
      "execution_count": 50,
      "outputs": [
        {
          "output_type": "stream",
          "text": [
            "Give any number of input: asdf,p;ij,678,gfhs\n",
            "['asdf', 'p;ij', '678', 'gfhs']\n"
          ],
          "name": "stdout"
        },
        {
          "output_type": "execute_result",
          "data": {
            "text/plain": [
              "list"
            ]
          },
          "metadata": {
            "tags": []
          },
          "execution_count": 50
        }
      ]
    },
    {
      "cell_type": "markdown",
      "metadata": {
        "id": "qQiN4tw7aop-",
        "colab_type": "text"
      },
      "source": [
        "Create the below pattern using nested for loop in Python."
      ]
    },
    {
      "cell_type": "code",
      "metadata": {
        "id": "kF-Fj-v6hxoB",
        "colab_type": "code",
        "colab": {
          "base_uri": "https://localhost:8080/",
          "height": 219
        },
        "outputId": "8e43b811-23c6-4b26-9c77-f120a0443741"
      },
      "source": [
        "i=1\n",
        "while (i<=5):\n",
        "  print (\"*\"*i)\n",
        "  i=i+1\n",
        "  continue\n",
        "while (i>=1):\n",
        "  print (\"*\"*i)\n",
        "  i=i-1\n",
        "\n"
      ],
      "execution_count": 68,
      "outputs": [
        {
          "output_type": "stream",
          "text": [
            "*\n",
            "**\n",
            "***\n",
            "****\n",
            "*****\n",
            "******\n",
            "*****\n",
            "****\n",
            "***\n",
            "**\n",
            "*\n"
          ],
          "name": "stdout"
        }
      ]
    },
    {
      "cell_type": "markdown",
      "metadata": {
        "id": "LbiMX2H-h0oO",
        "colab_type": "text"
      },
      "source": [
        "Write a Python program to reverse a word after accepting the input from the user.\n",
        "Sample Output:\n",
        "Input word: AcadGild\n",
        "Output: dilGdacA"
      ]
    },
    {
      "cell_type": "code",
      "metadata": {
        "id": "cNhdHRkA03X7",
        "colab_type": "code",
        "colab": {
          "base_uri": "https://localhost:8080/",
          "height": 54
        },
        "outputId": "a265ecb8-8ea4-496a-e8c1-cc90e1c47208"
      },
      "source": [
        "rever= input(\"Input word: \")\n",
        "print(rever[::-1])"
      ],
      "execution_count": 70,
      "outputs": [
        {
          "output_type": "stream",
          "text": [
            "Input word: AcadGild\n",
            "dliGdacA\n"
          ],
          "name": "stdout"
        }
      ]
    },
    {
      "cell_type": "markdown",
      "metadata": {
        "id": "SOcBEXle1OpB",
        "colab_type": "text"
      },
      "source": [
        "Write a Python Program to print the given string in the format specified in the sample output.\n",
        "WE, THE PEOPLE OF INDIA, having solemnly resolved to constitute India into a\n",
        "SOVEREIGN, SOCIALIST, SECULAR, DEMOCRATIC REPUBLIC and to secure to all\n",
        "its citizens"
      ]
    },
    {
      "cell_type": "code",
      "metadata": {
        "id": "xvejY3Dd3DOj",
        "colab_type": "code",
        "colab": {
          "base_uri": "https://localhost:8080/",
          "height": 90
        },
        "outputId": "b98c29ba-2956-4581-acb8-348d148fc339"
      },
      "source": [
        "print ('WE, THE PEOPLE OF INDIA,\\n\\t having solemnly resolved to constitute India into a SOVEREIGN, \\n\\t\\t SOCIALIST, SECULAR, DEMOCRATIC REPUBLIC \\n\\t\\t\\t and to secure to all its citizens')\n",
        "\n"
      ],
      "execution_count": 94,
      "outputs": [
        {
          "output_type": "stream",
          "text": [
            "WE, THE PEOPLE OF INDIA,\n",
            "\t having solemnly resolved to constitute India into a SOVEREIGN, \n",
            "\t\t SOCIALIST, SECULAR, DEMOCRATIC REPUBLIC \n",
            "\t\t\t and to secure to all its citizens\n"
          ],
          "name": "stdout"
        }
      ]
    },
    {
      "cell_type": "code",
      "metadata": {
        "id": "8aBG1T_A6kG5",
        "colab_type": "code",
        "colab": {}
      },
      "source": [
        ""
      ],
      "execution_count": 0,
      "outputs": []
    }
  ]
}